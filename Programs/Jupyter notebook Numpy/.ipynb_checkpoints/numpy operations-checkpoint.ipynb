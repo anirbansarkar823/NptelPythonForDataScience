{
 "cells": [
  {
   "cell_type": "markdown",
   "metadata": {},
   "source": [
    "## Numpy arrays"
   ]
  },
  {
   "cell_type": "code",
   "execution_count": 1,
   "metadata": {},
   "outputs": [],
   "source": [
    "import numpy as np\n"
   ]
  },
  {
   "cell_type": "code",
   "execution_count": 2,
   "metadata": {},
   "outputs": [
    {
     "name": "stdout",
     "output_type": "stream",
     "text": [
      "[ 1  2  3  4  5  6  7  8  9 10 11 12]\n"
     ]
    }
   ],
   "source": [
    "list_np = [1,2,3,4,5,6,7,8,9,10,11,12]\n",
    "arr_np = np.array(list_np, dtype=int)\n",
    "print(arr_np)\n"
   ]
  },
  {
   "cell_type": "code",
   "execution_count": 3,
   "metadata": {},
   "outputs": [
    {
     "name": "stdout",
     "output_type": "stream",
     "text": [
      "<class 'numpy.ndarray'>\n",
      "12\n",
      "(12,)\n",
      "(1, 12)\n",
      "1\n"
     ]
    }
   ],
   "source": [
    "print(type(arr_np)) #prints the type of the array\n",
    "print(len(arr_np)) #prints the shape of first dimension = shape[0]\n",
    "print(arr_np.shape)#prints the (rows, cols)\n",
    "print(arr_np.reshape(1,-1).shape)\n",
    "print(arr_np.ndim) #prints the number of axis/dimension"
   ]
  },
  {
   "cell_type": "code",
   "execution_count": 4,
   "metadata": {},
   "outputs": [
    {
     "name": "stdout",
     "output_type": "stream",
     "text": [
      "[[ 1  2  3]\n",
      " [ 4  5  6]\n",
      " [ 7  8  9]\n",
      " [10 11 12]]\n",
      "4\n",
      "(4, 3)\n",
      "2\n"
     ]
    }
   ],
   "source": [
    "arr_np1 = arr_np.reshape(4,3)\n",
    "print(arr_np1)\n",
    "print(len(arr_np1))\n",
    "print(arr_np1.shape)\n",
    "print(arr_np1.ndim)"
   ]
  },
  {
   "cell_type": "markdown",
   "metadata": {},
   "source": [
    "## np.reshape(r,-1) or np.reshape(-1,c) will also work, in which case numpy calculates automatically the other dimemsion"
   ]
  },
  {
   "cell_type": "code",
   "execution_count": 5,
   "metadata": {},
   "outputs": [
    {
     "name": "stdout",
     "output_type": "stream",
     "text": [
      "[[ 1  2  3  4  5  6]\n",
      " [ 7  8  9 10 11 12]]\n",
      "[[ 1  2  3  4]\n",
      " [ 5  6  7  8]\n",
      " [ 9 10 11 12]]\n",
      "[[ 1  2  3  4  5  6]\n",
      " [ 7  8  9 10 11 12]]\n",
      "[[ 1  2  3  4]\n",
      " [ 5  6  7  8]\n",
      " [ 9 10 11 12]]\n"
     ]
    }
   ],
   "source": [
    "arr_np1 = arr_np.reshape(2,-1)\n",
    "print(arr_np1)\n",
    "\n",
    "arr_np1 = arr_np1.reshape(3,-1) #shape(2,6) can be np.reshape() to shape(3,4) and vice versa\n",
    "print(arr_np1)\n",
    "arr_np1 = arr_np1.reshape(2,-1)\n",
    "print(arr_np1)\n",
    "\n",
    "arr_np1 = arr_np1.reshape(-1,4)\n",
    "print(arr_np1)"
   ]
  },
  {
   "cell_type": "code",
   "execution_count": 6,
   "metadata": {},
   "outputs": [
    {
     "name": "stdout",
     "output_type": "stream",
     "text": [
      "([1, 2, 3], [4, 5, 6], [7, 8, 9])\n",
      "<class 'tuple'>\n"
     ]
    }
   ],
   "source": [
    "# can lists be combined using comma(',') : No it will convert them to tuple\n",
    "list_t1 = [1,2,3]\n",
    "list_t2 = [4,5,6]\n",
    "list_t3 = [7,8,9]\n",
    "\n",
    "tup_n = list_t1, list_t2, list_t3\n",
    "print(tup_n)\n",
    "print(type(tup_n))"
   ]
  },
  {
   "cell_type": "code",
   "execution_count": 7,
   "metadata": {},
   "outputs": [
    {
     "name": "stdout",
     "output_type": "stream",
     "text": [
      "[1 2 3 4 5 9]\n"
     ]
    }
   ],
   "source": [
    "# can tuple be used to create numpy array: yes definitely\n",
    "tup_t = 1,2,3,4,5,9\n",
    "arr_np = np.array(tup_t)\n",
    "print(arr_np)"
   ]
  },
  {
   "cell_type": "code",
   "execution_count": 8,
   "metadata": {},
   "outputs": [
    {
     "name": "stdout",
     "output_type": "stream",
     "text": [
      "[[1 2 3]\n",
      " [4 5 6]\n",
      " [7 8 9]]\n",
      "(3, 3)\n",
      "[[1 2 3 4 5 6 7 8 9]]\n",
      "(1, 9)\n"
     ]
    }
   ],
   "source": [
    "# np.array() using multiple lists\n",
    "list_t1 = [1,2,3]\n",
    "list_t2 = [4,5,6]\n",
    "list_t3 = [7,8,9]\n",
    "\n",
    "arr_np = np.array((list_t1, list_t2, list_t3))\n",
    "print(arr_np)\n",
    "print(arr_np.shape)\n",
    "\n",
    "arr_np = arr_np.reshape(1,-1)\n",
    "print(arr_np)\n",
    "print(arr_np.shape)"
   ]
  },
  {
   "cell_type": "markdown",
   "metadata": {},
   "source": [
    "## Use of range() and np.arange() in python to create numpy array"
   ]
  },
  {
   "cell_type": "code",
   "execution_count": 13,
   "metadata": {},
   "outputs": [
    {
     "name": "stdout",
     "output_type": "stream",
     "text": [
      "[ 0  1  2  3  4  5  6  7  8  9 10 11 12 13 14 15 16 17 18 19]\n",
      "[[ 0  1  2  3  4  5  6  7  8  9 10 11 12 13 14 15 16 17 18 19]]\n",
      "[[ 0  1  2  3  4  5  6  7  8  9 10 11 12 13 14 15 16 17 18 19]]\n"
     ]
    }
   ],
   "source": [
    "#range() to create np.array\n",
    "a_r = range(20)\n",
    "ar_np = np.array(a_r)\n",
    "print(ar_np)\n",
    "ar_np = ar_np.reshape(1,-1)\n",
    "print(ar_np)\n",
    "\n",
    "#np.arange() to create the array\n",
    "arng_np = np.arange(20)\n",
    "print(arng_np.reshape(1,-1))"
   ]
  },
  {
   "cell_type": "markdown",
   "metadata": {},
   "source": [
    "# Arithmatic Operation: dimention and shape must match as operations are performed element-wise"
   ]
  },
  {
   "cell_type": "code",
   "execution_count": 9,
   "metadata": {},
   "outputs": [
    {
     "name": "stdout",
     "output_type": "stream",
     "text": [
      "[[0 1 2]\n",
      " [3 4 5]]\n",
      "\n",
      "[[4 5 6]\n",
      " [7 8 9]]\n"
     ]
    }
   ],
   "source": [
    "#array declaration\n",
    "a_np = np.arange(6).reshape(2,3)\n",
    "b_np = np.arange(4,10).reshape(2,-1)\n",
    "print(a_np)\n",
    "print()\n",
    "print(b_np)\n",
    "\n"
   ]
  },
  {
   "cell_type": "code",
   "execution_count": 10,
   "metadata": {
    "scrolled": true
   },
   "outputs": [
    {
     "name": "stdout",
     "output_type": "stream",
     "text": [
      "\n",
      "[[ 4  6  8]\n",
      " [10 12 14]]\n",
      "\n",
      "[[ 4  6  8]\n",
      " [10 12 14]]\n"
     ]
    }
   ],
   "source": [
    "#addition\n",
    "print()\n",
    "print(a_np+b_np)\n",
    "print()\n",
    "print(np.add(a_np,b_np))\n"
   ]
  },
  {
   "cell_type": "code",
   "execution_count": 11,
   "metadata": {},
   "outputs": [
    {
     "name": "stdout",
     "output_type": "stream",
     "text": [
      "\n",
      "[[-4 -4 -4]\n",
      " [-4 -4 -4]]\n",
      "\n",
      "[[-4 -4 -4]\n",
      " [-4 -4 -4]]\n"
     ]
    }
   ],
   "source": [
    "#subtraction\n",
    "print()\n",
    "print(a_np - b_np)\n",
    "print()\n",
    "print(np.subtract(a_np,b_np))\n"
   ]
  },
  {
   "cell_type": "code",
   "execution_count": 12,
   "metadata": {},
   "outputs": [
    {
     "name": "stdout",
     "output_type": "stream",
     "text": [
      "\n",
      "[[ 0  5 12]\n",
      " [21 32 45]]\n",
      "\n",
      "[[ 0  5 12]\n",
      " [21 32 45]]\n"
     ]
    }
   ],
   "source": [
    "#multiply - performs element wise multiplication\n",
    "print()\n",
    "print(a_np * b_np)\n",
    "print()\n",
    "print(np.multiply(a_np,b_np))"
   ]
  },
  {
   "cell_type": "code",
   "execution_count": 13,
   "metadata": {
    "scrolled": true
   },
   "outputs": [
    {
     "name": "stdout",
     "output_type": "stream",
     "text": [
      "[[22 25]\n",
      " [76 88]]\n",
      "[[22 25]\n",
      " [76 88]]\n"
     ]
    }
   ],
   "source": [
    "# finding dot product\n",
    "b_np = b_np.reshape(3,2)\n",
    "print(a_np.dot(b_np))\n",
    "print(np.dot(a_np,b_np))"
   ]
  },
  {
   "cell_type": "code",
   "execution_count": 14,
   "metadata": {},
   "outputs": [],
   "source": [
    "b_np = b_np.reshape(2,3)"
   ]
  },
  {
   "cell_type": "code",
   "execution_count": 15,
   "metadata": {
    "scrolled": true
   },
   "outputs": [
    {
     "name": "stdout",
     "output_type": "stream",
     "text": [
      "\n",
      "[[0.         0.2        0.33333333]\n",
      " [0.42857143 0.5        0.55555556]]\n",
      "\n",
      "[[0.         0.2        0.33333333]\n",
      " [0.42857143 0.5        0.55555556]]\n"
     ]
    }
   ],
   "source": [
    "#division\n",
    "print()\n",
    "print(a_np/b_np)\n",
    "print()\n",
    "print(np.divide(a_np,b_np))"
   ]
  },
  {
   "cell_type": "code",
   "execution_count": 16,
   "metadata": {},
   "outputs": [
    {
     "name": "stdout",
     "output_type": "stream",
     "text": [
      "\n",
      "[[0.         0.2        0.33333333]\n",
      " [0.42857143 0.5        0.55555556]]\n"
     ]
    }
   ],
   "source": [
    "#ture divide\n",
    "print()\n",
    "print(np.true_divide(a_np, b_np))"
   ]
  },
  {
   "cell_type": "code",
   "execution_count": 17,
   "metadata": {},
   "outputs": [
    {
     "name": "stdout",
     "output_type": "stream",
     "text": [
      "\n",
      "[[0 0 0]\n",
      " [0 0 0]]\n"
     ]
    }
   ],
   "source": [
    "#floor divide\n",
    "print()\n",
    "print(np.floor_divide(a_np, b_np))"
   ]
  },
  {
   "cell_type": "code",
   "execution_count": 18,
   "metadata": {},
   "outputs": [
    {
     "name": "stdout",
     "output_type": "stream",
     "text": [
      "[[ 0 -1 -2]\n",
      " [-3 -4 -5]]\n",
      "\n",
      "[[0 1 2]\n",
      " [3 4 5]]\n"
     ]
    }
   ],
   "source": [
    "#element wise negative\n",
    "print(np.negative(a_np))\n",
    "print()\n",
    "print(np.positive(a_np))"
   ]
  },
  {
   "cell_type": "code",
   "execution_count": 24,
   "metadata": {},
   "outputs": [
    {
     "name": "stdout",
     "output_type": "stream",
     "text": [
      "[[0 1 2]\n",
      " [3 4 5]]\n",
      "\n",
      "[[4 5 6]\n",
      " [7 8 9]]\n",
      "\n",
      "[[      0       1      64]\n",
      " [   2187   65536 1953125]]\n",
      "\n",
      "[[0 1 2]\n",
      " [3 4 5]]\n",
      "\n",
      "[[0 1 2]\n",
      " [3 4 5]]\n"
     ]
    }
   ],
   "source": [
    "# numpy power, remainder and mod\n",
    "print(a_np)\n",
    "print()\n",
    "print(b_np)\n",
    "print()\n",
    "print(np.power(a_np,b_np))\n",
    "print()\n",
    "print(np.remainder(a_np, b_np))\n",
    "print()\n",
    "print(np.mod(a_np, b_np))"
   ]
  },
  {
   "cell_type": "markdown",
   "metadata": {},
   "source": [
    "## numpy sum function"
   ]
  },
  {
   "cell_type": "code",
   "execution_count": 19,
   "metadata": {},
   "outputs": [
    {
     "name": "stdout",
     "output_type": "stream",
     "text": [
      "[[0 1 2]\n",
      " [3 4 5]]\n",
      "\n",
      "15\n",
      "\n",
      "[3 5 7]\n",
      "\n",
      "[ 3 12]\n"
     ]
    }
   ],
   "source": [
    "print(a_np)\n",
    "print()\n",
    "print(np.sum(a_np)) #this will perform overall sum\n",
    "print()\n",
    "print(np.sum(a_np,axis = 0)) #this will perform column wise element sum\n",
    "print()\n",
    "print(np.sum(a_np, axis = 1)) #this will perform row wise element sum"
   ]
  },
  {
   "cell_type": "code",
   "execution_count": null,
   "metadata": {
    "collapsed": true
   },
   "outputs": [],
   "source": []
  }
 ],
 "metadata": {
  "kernelspec": {
   "display_name": "Python 3",
   "language": "python",
   "name": "python3"
  },
  "language_info": {
   "codemirror_mode": {
    "name": "ipython",
    "version": 3
   },
   "file_extension": ".py",
   "mimetype": "text/x-python",
   "name": "python",
   "nbconvert_exporter": "python",
   "pygments_lexer": "ipython3",
   "version": "3.8.5"
  }
 },
 "nbformat": 4,
 "nbformat_minor": 2
}
