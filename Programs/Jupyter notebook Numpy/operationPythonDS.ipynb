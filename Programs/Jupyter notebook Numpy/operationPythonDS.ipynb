{
 "cells": [
  {
   "cell_type": "markdown",
   "metadata": {},
   "source": [
    "# operation on python Data structures"
   ]
  },
  {
   "cell_type": "markdown",
   "metadata": {},
   "source": [
    "### Slicing can be done using\n",
    "## slice(start, stop, step) function\n",
    "### it starts slicing from start index of iterable, till stop-1 and step value will give what values to choose"
   ]
  },
  {
   "cell_type": "code",
   "execution_count": 1,
   "metadata": {},
   "outputs": [
    {
     "name": "stdout",
     "output_type": "stream",
     "text": [
      "ear\n",
      "erig\n",
      "rning\n",
      "gninrael\n",
      "Enola\n",
      "lonE\n"
     ]
    }
   ],
   "source": [
    "str_temp = \"learning\"\n",
    "print(str_temp[slice(1,4)])\n",
    "print(str_temp[slice(1,8,2)])\n",
    "\n",
    "#slicing with : operator\n",
    "print(str_temp[3:100]) #last value won't give error in case of slicing\n",
    "print(str_temp[::-1])\n",
    "\n",
    "#lets get back to sherlock\n",
    "str_t = \"alonE\"\n",
    "print(str_t[::-1])\n",
    "print(str_t[slice(1,9,1)])#here also last value doesn't matter"
   ]
  },
  {
   "cell_type": "markdown",
   "metadata": {},
   "source": [
    "### Slicing is not possible on Set and Dictionary. But possible on Array"
   ]
  },
  {
   "cell_type": "code",
   "execution_count": 2,
   "metadata": {},
   "outputs": [
    {
     "name": "stdout",
     "output_type": "stream",
     "text": [
      "array('d', [1.0, 2.0, 3.0])\n",
      "array('d', [1.0, 2.0])\n",
      "array('d', [2.0, 3.0])\n"
     ]
    }
   ],
   "source": [
    "#Slicing is possible on Array too.\n",
    "from array import *\n",
    "ar_t = array('d',(1,2,3)) #d for float\n",
    "print(ar_t)\n",
    "\n",
    "print(ar_t[:2])\n",
    "print(ar_t[1:])"
   ]
  },
  {
   "cell_type": "markdown",
   "metadata": {},
   "source": [
    "## Concatenation"
   ]
  },
  {
   "cell_type": "code",
   "execution_count": 3,
   "metadata": {},
   "outputs": [
    {
     "name": "stdout",
     "output_type": "stream",
     "text": [
      "learn big\n",
      "('learn ', 'big')\n",
      "<class 'tuple'>\n",
      "['learn', 'python']\n",
      "array('d', [1.0, 2.0, 3.0, 4.0])\n",
      "array('d', [5.0, 6.0, 7.0, 8.0, 1.0, 2.0, 3.0, 4.0])\n",
      "(1, 2, 3)\n",
      "(1, 2, 3, '1', '2', '4')\n",
      "{1, 2, 3}\n",
      "({1, 2, 3}, {'4', '6', '5'})\n",
      "{1: 'one', 2: 'two'}\n"
     ]
    }
   ],
   "source": [
    "#concatenation of string\n",
    "# as string is immutable, all the objects will remain at different memory locations\n",
    "str_t = 'learn' + ' ' + 'big'\n",
    "print(str_t)\n",
    "\n",
    "str_t = 'learn' + ' ' , 'big' #it turner into tuple\n",
    "print(str_t)\n",
    "print(type(str_t))\n",
    "\n",
    "#concatenation of list is also possible\n",
    "ls_t = ['learn']+['python']\n",
    "print(ls_t)\n",
    "\n",
    "#concatenation of two arrays\n",
    "ar_t = array('d',[1,2,3,4])\n",
    "print(ar_t)\n",
    "ar_r = array('d',[5,6,7,8]) + ar_t\n",
    "print(ar_r)\n",
    "\n",
    "#concatenation of tuple\n",
    "tup_t = 1,2,3\n",
    "print(tup_t)\n",
    "tup_t += '1','2','4'\n",
    "print(tup_t)\n",
    "\n",
    "#concatenation of sets : NOT POSSIBLE\n",
    "set_t = {1,2,3}\n",
    "print(set_t)\n",
    "#set_t += {'4','5','6'} #throws error\n",
    "set_t = set_t ,{'4','5','6'} \n",
    "print(set_t)\n",
    "\n",
    "#concatenation of dictionary: NOT POSSIBLE\n",
    "dic_t = {1:'one',2:'two'}\n",
    "#dic_t += {3:'three'}\n",
    "print(dic_t)\n",
    "#concatenation of two different data types is not possible\n",
    "#lsa_t = ar_r + ls_t \n",
    "#lsa_t = str_t + ls_t \n",
    "#print(lsa_t)"
   ]
  },
  {
   "cell_type": "markdown",
   "metadata": {},
   "source": [
    "## multiplication operation: A kind of Concatenation for sequential data (tuple, lists, strings)"
   ]
  },
  {
   "cell_type": "code",
   "execution_count": 4,
   "metadata": {},
   "outputs": [
    {
     "name": "stdout",
     "output_type": "stream",
     "text": [
      "this this this \n",
      "{1: 'one', 2: 'two', 3: 'three'}\n"
     ]
    }
   ],
   "source": [
    "#Multiplication works as concatenation on Lists, Tuples and Strings.\n",
    "str_t = 'this '\n",
    "str_t *= 3\n",
    "print(str_t)\n",
    "\n",
    "#multiplication concatenation is not supported in dictionary\n",
    "dic_t = {1:'one', 2:'two', 3:'three'}\n",
    "#dic_t *= 3\n",
    "print(dic_t)"
   ]
  },
  {
   "cell_type": "code",
   "execution_count": null,
   "metadata": {
    "collapsed": true
   },
   "outputs": [],
   "source": []
  },
  {
   "cell_type": "code",
   "execution_count": null,
   "metadata": {
    "collapsed": true
   },
   "outputs": [],
   "source": []
  }
 ],
 "metadata": {
  "kernelspec": {
   "display_name": "Python 3",
   "language": "python",
   "name": "python3"
  },
  "language_info": {
   "codemirror_mode": {
    "name": "ipython",
    "version": 3
   },
   "file_extension": ".py",
   "mimetype": "text/x-python",
   "name": "python",
   "nbconvert_exporter": "python",
   "pygments_lexer": "ipython3",
   "version": "3.8.5"
  }
 },
 "nbformat": 4,
 "nbformat_minor": 2
}
