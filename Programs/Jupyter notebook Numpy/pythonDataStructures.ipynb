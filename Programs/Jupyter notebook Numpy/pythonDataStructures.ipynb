{
 "cells": [
  {
   "cell_type": "markdown",
   "metadata": {},
   "source": [
    "# Python Data Structures"
   ]
  },
  {
   "cell_type": "code",
   "execution_count": 2,
   "metadata": {
    "scrolled": true
   },
   "outputs": [
    {
     "name": "stdout",
     "output_type": "stream",
     "text": [
      "50\n"
     ]
    }
   ],
   "source": [
    "a = 5\n",
    "b = 10\n",
    "c = a*b\n",
    "print (c)"
   ]
  },
  {
   "cell_type": "markdown",
   "metadata": {},
   "source": [
    "## Arrays are used to store collection of items  of same datatype at contiguous memory locations"
   ]
  },
  {
   "cell_type": "code",
   "execution_count": 3,
   "metadata": {},
   "outputs": [
    {
     "name": "stdout",
     "output_type": "stream",
     "text": [
      "array('i', [1, 2, 3, 4])\n",
      "1\n",
      "2\n",
      "3\n",
      "4\n",
      "the first element is 2\n"
     ]
    }
   ],
   "source": [
    "from array import *\n",
    "ar_obj = array('i',[1,2,3,4])#'i' - datatype\n",
    "print(ar_obj)\n",
    "for val in ar_obj: print(val)\n",
    "\n",
    "#accessing element of the array using indexing\n",
    "print(\"the first element is\",ar_obj[1])"
   ]
  },
  {
   "cell_type": "markdown",
   "metadata": {},
   "source": [
    "#### Python arrays: for datatypes that can be used "
   ]
  },
  {
   "cell_type": "code",
   "execution_count": 55,
   "metadata": {
    "collapsed": true
   },
   "outputs": [],
   "source": [
    "#https://www.geeksforgeeks.org/python-arrays/\n",
    "#link for other symbols that can be used as datatype"
   ]
  },
  {
   "cell_type": "code",
   "execution_count": 56,
   "metadata": {
    "collapsed": true
   },
   "outputs": [],
   "source": [
    "# In Tuple, once the element created cannot be changed [Immutable] unlike lists."
   ]
  },
  {
   "cell_type": "markdown",
   "metadata": {},
   "source": [
    "## Tuple packing: creating tuple without parenthesis"
   ]
  },
  {
   "cell_type": "code",
   "execution_count": 57,
   "metadata": {},
   "outputs": [
    {
     "name": "stdout",
     "output_type": "stream",
     "text": [
      "<class 'tuple'>\n",
      "(1, 2, 'tuple packing')\n"
     ]
    }
   ],
   "source": [
    "tup = 1, 2, \"tuple packing\"\n",
    "print(type(tup))\n",
    "print(tup)"
   ]
  },
  {
   "cell_type": "code",
   "execution_count": 4,
   "metadata": {},
   "outputs": [
    {
     "name": "stdout",
     "output_type": "stream",
     "text": [
      "{'a': 1, 'b': 2, 'c': 3}\n",
      "{'a': 1, 'b': 2, 'c': 3}\n"
     ]
    }
   ],
   "source": [
    "#Use of dict() built-in function\n",
    "dic_ob = dict((('a',1), ('b',2),('c',3)))\n",
    "dic_ob2 = dict([('a',1), ('b',2),('c',3)])\n",
    "print(dic_ob)\n",
    "print(dic_ob2)"
   ]
  },
  {
   "cell_type": "code",
   "execution_count": 5,
   "metadata": {},
   "outputs": [
    {
     "name": "stdout",
     "output_type": "stream",
     "text": [
      "{8, 9, 7}\n"
     ]
    }
   ],
   "source": [
    "#list cannot be an element of a set\n",
    "#set_t = {1,2,[2,3]} ; throws error: TypeError: unhashable type: 'list'\n",
    "\n",
    "#set cannot be an element of a set\n",
    "#set_t = {1,3,{1,3}}; throws error: TypeError: unhashable type: 'set'\n",
    "\n",
    "set_t = set([1,2,3])\n",
    "set_t = set((4,5,6))\n",
    "set_t = set({7,8,9})\n",
    "\n",
    "print(set_t)"
   ]
  },
  {
   "cell_type": "code",
   "execution_count": 6,
   "metadata": {},
   "outputs": [
    {
     "name": "stdout",
     "output_type": "stream",
     "text": [
      "range(1, 12, 3)\n",
      "<class 'range'>\n",
      "1\n",
      "4\n",
      "7\n",
      "10\n"
     ]
    }
   ],
   "source": [
    "#range function\n",
    "\n",
    "range_val = range(1,12, 3)\n",
    "print(range_val)#it will simply print the input\n",
    "\n",
    "print(type(range_val))\n",
    "for i in range_val:\n",
    "    print(i)"
   ]
  },
  {
   "cell_type": "markdown",
   "metadata": {},
   "source": []
  },
  {
   "cell_type": "code",
   "execution_count": 7,
   "metadata": {},
   "outputs": [],
   "source": [
    "# set cannot be indexed. Dictionary can be indexed using its key\n",
    "# list, array and tuple can be indexed\n"
   ]
  },
  {
   "cell_type": "code",
   "execution_count": null,
   "metadata": {},
   "outputs": [],
   "source": []
  }
 ],
 "metadata": {
  "kernelspec": {
   "display_name": "Python 3",
   "language": "python",
   "name": "python3"
  },
  "language_info": {
   "codemirror_mode": {
    "name": "ipython",
    "version": 3
   },
   "file_extension": ".py",
   "mimetype": "text/x-python",
   "name": "python",
   "nbconvert_exporter": "python",
   "pygments_lexer": "ipython3",
   "version": "3.8.5"
  }
 },
 "nbformat": 4,
 "nbformat_minor": 2
}
